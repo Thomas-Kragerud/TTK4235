{
 "cells": [
  {
   "cell_type": "code",
   "execution_count": 36,
   "metadata": {
    "collapsed": true,
    "pycharm": {
     "name": "#%%\n"
    }
   },
   "outputs": [],
   "source": [
    "import cv2\n",
    "import pytesseract"
   ]
  },
  {
   "cell_type": "markdown",
   "source": [
    "# Ossen funker dette a?\n",
    "- Ta screenshot av registernavnene og offsettene\n",
    "- Legg dem i samme mappe som notebooken og gi bildene navnene reg.png og off.png\n",
    "- Kjør alle cellene\n",
    "- Len deg tilbake popp en shni og chill for du har akkurat spart deg selv for 6 min med marging"
   ],
   "metadata": {
    "collapsed": false,
    "pycharm": {
     "name": "#%% md\n"
    }
   }
  },
  {
   "cell_type": "code",
   "execution_count": 37,
   "outputs": [
    {
     "data": {
      "text/plain": "12.0"
     },
     "execution_count": 37,
     "metadata": {},
     "output_type": "execute_result"
    }
   ],
   "source": [
    "def finn_offset(off):\n",
    "    byte_per_word = 4\n",
    "    return off/byte_per_word\n",
    "finn_offset((0x554 - 0x524))"
   ],
   "metadata": {
    "collapsed": false,
    "pycharm": {
     "name": "#%%\n"
    }
   }
  },
  {
   "cell_type": "code",
   "execution_count": 38,
   "outputs": [],
   "source": [
    "def set_up_struct(ofsets):\n",
    "    dec_list = []\n",
    "    val_list = []\n",
    "    reserv = 0\n",
    "    for i in range(len(ofsets)):\n",
    "        if i == 0:\n",
    "            first = 0x0\n",
    "        else:\n",
    "            first = int(ofsets[i - 1], 16) + 0x4\n",
    "\n",
    "\n",
    "        second = int(ofsets[i],16)\n",
    "        ofset_val = finn_offset(second - first)\n",
    "\n",
    "\n",
    "        if ofset_val != 0:\n",
    "            if ofset_val == 1:\n",
    "                val_list.append(f'reserv{reserv}')\n",
    "                val_list.append('normal_reg')\n",
    "            else:\n",
    "                val_list.append(f'reserv{reserv}[{int(ofset_val)}]')\n",
    "                val_list.append('normal_reg')\n",
    "            reserv = reserv + 1\n",
    "        else:\n",
    "            val_list.append(f'normal_reg')\n",
    "\n",
    "        dec_list.append(ofset_val)\n",
    "\n",
    "    return  val_list"
   ],
   "metadata": {
    "collapsed": false,
    "pycharm": {
     "name": "#%%\n"
    }
   }
  },
  {
   "cell_type": "code",
   "execution_count": 39,
   "outputs": [],
   "source": [
    "\n",
    "def merg(regs, struct):\n",
    "    n = 0\n",
    "    for i, val in enumerate(struct):\n",
    "        if 'reserv' not in val:\n",
    "            struct[i] = regs[n]\n",
    "            n = n + 1\n",
    "        struct[i] = 'volatile uint32_t ' + struct[i] + \";\"\n",
    "        print(struct[i])\n",
    "    return struct"
   ],
   "metadata": {
    "collapsed": false,
    "pycharm": {
     "name": "#%%\n"
    }
   }
  },
  {
   "cell_type": "code",
   "execution_count": 40,
   "outputs": [],
   "source": [
    "def clean_list(list):\n",
    "    for i, val in enumerate(list):\n",
    "        if val == '':\n",
    "            del(list[i])\n",
    "        if 'Ox' in val:\n",
    "            list[i] = val.replace('Ox','0x')\n",
    "        if 'Register' in val:\n",
    "            del(list[i])\n",
    "    return list"
   ],
   "metadata": {
    "collapsed": false,
    "pycharm": {
     "name": "#%%\n"
    }
   }
  },
  {
   "cell_type": "code",
   "execution_count": 41,
   "outputs": [
    {
     "name": "stdout",
     "output_type": "stream",
     "text": [
      "['OUT', 'OUTSET', 'OUTCLR', '', 'IN', '', 'DIR', 'DIRSET', 'DIRCLR', 'PIN_CNF[O]', 'PIN_CNF[1]', '']\n",
      "['0x504', '0x508', '0x50C', '0x510', '0x514', '0x518', '0x51C', '0x700', '0x704', '']\n"
     ]
    }
   ],
   "source": [
    "\n",
    "reg_string = pytesseract.image_to_string(cv2.imread('reg.png')).split('\\n')\n",
    "ofsets_string = pytesseract.image_to_string(cv2.imread('off.png')).split('\\n')\n",
    "print(reg_string)\n",
    "print(ofsets_string)"
   ],
   "metadata": {
    "collapsed": false,
    "pycharm": {
     "name": "#%%\n"
    }
   }
  },
  {
   "cell_type": "code",
   "execution_count": 42,
   "outputs": [
    {
     "name": "stdout",
     "output_type": "stream",
     "text": [
      "['OUT', 'OUTSET', 'OUTCLR', 'IN', 'DIR', 'DIRSET', 'DIRCLR', 'PIN_CNF[O]', 'PIN_CNF[1]']\n",
      "['0x504', '0x508', '0x50C', '0x510', '0x514', '0x518', '0x51C', '0x700', '0x704']\n"
     ]
    }
   ],
   "source": [
    "\n",
    "reg_list = clean_list(reg_string)\n",
    "ofset_list = clean_list(ofsets_string)\n",
    "\n",
    "basic_struct = set_up_struct(ofset_list)\n",
    "print(reg_list)\n",
    "print(ofset_list)"
   ],
   "metadata": {
    "collapsed": false,
    "pycharm": {
     "name": "#%%\n"
    }
   }
  },
  {
   "cell_type": "code",
   "execution_count": 43,
   "outputs": [
    {
     "name": "stdout",
     "output_type": "stream",
     "text": [
      "volatile uint32_t reserv0[321];\n",
      "volatile uint32_t OUT;\n",
      "volatile uint32_t OUTSET;\n",
      "volatile uint32_t OUTCLR;\n",
      "volatile uint32_t IN;\n",
      "volatile uint32_t DIR;\n",
      "volatile uint32_t DIRSET;\n",
      "volatile uint32_t DIRCLR;\n",
      "volatile uint32_t reserv1[120];\n",
      "volatile uint32_t PIN_CNF[O];\n",
      "volatile uint32_t PIN_CNF[1];\n"
     ]
    }
   ],
   "source": [
    "\n",
    "STRUCT = merg(reg_list, basic_struct)"
   ],
   "metadata": {
    "collapsed": false,
    "pycharm": {
     "name": "#%%\n"
    }
   }
  },
  {
   "cell_type": "code",
   "execution_count": null,
   "outputs": [],
   "source": [
    
   ],
   "metadata": {
    "collapsed": false,
    "pycharm": {
     "name": "#%%\n"
    }
   }
  }
 ],
 "metadata": {
  "kernelspec": {
   "display_name": "Python 3",
   "language": "python",
   "name": "python3"
  },
  "language_info": {
   "codemirror_mode": {
    "name": "ipython",
    "version": 2
   },
   "file_extension": ".py",
   "mimetype": "text/x-python",
   "name": "python",
   "nbconvert_exporter": "python",
   "pygments_lexer": "ipython2",
   "version": "2.7.6"
  }
 },
 "nbformat": 4,
 "nbformat_minor": 0
}
